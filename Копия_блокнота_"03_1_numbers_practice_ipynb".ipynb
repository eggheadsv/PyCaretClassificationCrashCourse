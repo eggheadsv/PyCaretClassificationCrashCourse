{
  "cells": [
    {
      "cell_type": "markdown",
      "metadata": {
        "id": "view-in-github",
        "colab_type": "text"
      },
      "source": [
        "<a href=\"https://colab.research.google.com/github/eggheadsv/PyCaretClassificationCrashCourse/blob/main/%D0%9A%D0%BE%D0%BF%D0%B8%D1%8F_%D0%B1%D0%BB%D0%BE%D0%BA%D0%BD%D0%BE%D1%82%D0%B0_%2203_1_numbers_practice_ipynb%22.ipynb\" target=\"_parent\"><img src=\"https://colab.research.google.com/assets/colab-badge.svg\" alt=\"Open In Colab\"/></a>"
      ]
    },
    {
      "cell_type": "markdown",
      "metadata": {
        "id": "SpGz44DGzCL0"
      },
      "source": [
        "# 1. Создание формул\n",
        "Напишите следующие математические формулы c с помощью Python\n",
        "\n",
        "\\begin{align}\n",
        " result = 6a^3 - \\frac{8b^2 }{4c} + 11\n",
        "\\end{align}\n",
        "\n",
        "Заполните `____`, в блоках ниже, написав эту формулу и подставив в неё значения переменных `a`, `b` и `c`.\n",
        "\n",
        "Функция `assert` проверит правильность решения в этом и всех последующих заданиях.\n",
        "\n",
        "Если ответ верный, ничего не произойдёт. Если неверный - Вы увидите `AssertionError`"
      ]
    },
    {
      "cell_type": "code",
      "execution_count": null,
      "metadata": {
        "editable": false,
        "id": "vvQk8RX2zCL2"
      },
      "outputs": [],
      "source": [
        "a = 2\n",
        "b = 3\n",
        "c = 2"
      ]
    },
    {
      "cell_type": "markdown",
      "metadata": {
        "id": "BNA6puvmzCL3"
      },
      "source": [
        "Чтобы выполнить блок кода, нажмите на него левой кнопкой мыши, а затем - на кнопку с треугольником \"Run\" или \"Выполнить\" слева от блока (если Вы используете Google Colab) или наверху (если Вы используете Jupyter Notebook).\n",
        "\n",
        "Вместо кнопки \"Run\" можно использовать комбинацию `Ctrl+Enter` (Windows, Linux) или `Cmd+Enter` (MacOS), когда Ваш курсор находится в блоке с кодом"
      ]
    },
    {
      "cell_type": "markdown",
      "metadata": {
        "id": "3HqqHAhvzCL4"
      },
      "source": [
        "Интерактивный интерпретатор \"запоминает\" действия в прошлых блоках кода так, будто вы по очереди выполняли их в командной строке.\n",
        "\n",
        "Если Вы лишний раз раз запустили одни и те же блоки кода и что-то сбили, нажмите на кнопку \"Restart the kernel\", чтобы очистить память интерпретатора, и выполните все блоки кода заново"
      ]
    },
    {
      "cell_type": "code",
      "execution_count": null,
      "metadata": {
        "id": "tF85AC76zCL4"
      },
      "outputs": [],
      "source": [
        "#\n",
        "# не забудьте, что возведение в степень в Python - это не ^, а **\n",
        "\n",
        "# символом \"решётка\" в коде выделяются комментарии для других программистов и для себя\n",
        "# интерпретатор их пропускает\n",
        "\n",
        "result = _________"
      ]
    },
    {
      "cell_type": "code",
      "execution_count": null,
      "metadata": {
        "id": "zB21lrFPzCL4"
      },
      "outputs": [],
      "source": [
        "# если при выполнении кода в этой ячейке ничего не произошло, Вы всё сделали верно!\n",
        "assert result == 50"
      ]
    },
    {
      "cell_type": "markdown",
      "metadata": {
        "id": "v7IBsOybzCL5"
      },
      "source": [
        "# 2. Проблемы с float-числами\n",
        "Покажите, что `0.1 + 0.2` не равно `0.3`, заполнив `____`, в блоке кода ниже"
      ]
    },
    {
      "cell_type": "code",
      "execution_count": null,
      "metadata": {
        "id": "UPF1DgMHzCL5"
      },
      "outputs": [],
      "source": [
        "# Ваше решение:\n",
        "is_that_true = (0.1 + 0.2 == _________)\n",
        "print(is_that_true)"
      ]
    },
    {
      "cell_type": "code",
      "execution_count": null,
      "metadata": {
        "id": "r7G3CeWTzCL5"
      },
      "outputs": [],
      "source": [
        "# проверим\n",
        "assert is_that_true == False"
      ]
    },
    {
      "cell_type": "markdown",
      "metadata": {
        "id": "VdcHKxGxzCL6"
      },
      "source": [
        "Если `is_that_true` - это `False`, получается, что в Python `0.1 + 0.2` != `0.3`\n",
        "\n",
        "Подумайте и погуглите, как сделать так (или какой тип данных использовать для 0.1, 0.2 и 0.3), чтобы выражение всё-таки стало истинным (`True`)"
      ]
    }
  ],
  "metadata": {
    "celltoolbar": "Edit Metadata",
    "kernelspec": {
      "display_name": "Python 3.10.8 64-bit (microsoft store)",
      "language": "python",
      "name": "python3"
    },
    "language_info": {
      "codemirror_mode": {
        "name": "ipython",
        "version": 3
      },
      "file_extension": ".py",
      "mimetype": "text/x-python",
      "name": "python",
      "nbconvert_exporter": "python",
      "pygments_lexer": "ipython3",
      "version": "3.10.8"
    },
    "vscode": {
      "interpreter": {
        "hash": "7b1f2b33e866b0bf2409397e5f58ba9cdf170d3b7f64c8f359c79998e2f88ad4"
      }
    },
    "colab": {
      "provenance": [],
      "toc_visible": true,
      "include_colab_link": true
    }
  },
  "nbformat": 4,
  "nbformat_minor": 0
}